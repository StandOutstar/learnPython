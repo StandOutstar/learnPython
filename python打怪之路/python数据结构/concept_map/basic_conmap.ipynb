{
 "cells": [
  {
   "cell_type": "markdown",
   "metadata": {
    "collapsed": true
   },
   "source": [
    "## 图"
   ]
  },
  {
   "cell_type": "markdown",
   "metadata": {},
   "source": [
    "图由节点和节点之间的连线组成,形成网络"
   ]
  },
  {
   "cell_type": "heading",
   "metadata": {},
   "level": 1,
   "source": [
    "图用字典来表示"
   ]
  },
  {
   "cell_type": "code",
   "execution_count": 2,
   "metadata": {},
   "outputs": [],
   "source": [
    "chart = {'a': ['b', 'c'], 'b': ['d', 'e'], 'c': ['e', 'f']}"
   ]
  },
  {
   "cell_type": "code",
   "execution_count": 7,
   "metadata": {},
   "outputs": [],
   "source": [
    "def path(chart, begin, end, pathd=None):\n",
    "    if pathd is None:\n",
    "        pathd = []\n",
    "    if len(chart) == 0:\n",
    "        return None\n",
    "    pathd = pathd + [begin]\n",
    "    if begin == end:\n",
    "        return pathd\n",
    "    if begin not in chart.keys():\n",
    "        return None\n",
    "    \n",
    "    for node in chart[begin]:\n",
    "        if node not in pathd:\n",
    "            newpath = path(chart, node, end, pathd)\n",
    "            if newpath:\n",
    "                return newpath"
   ]
  },
  {
   "cell_type": "code",
   "execution_count": 8,
   "metadata": {},
   "outputs": [
    {
     "name": "stdout",
     "output_type": "stream",
     "text": [
      "['a', 'b', 'd']\n"
     ]
    }
   ],
   "source": [
    "print(path(chart, 'a', 'd', []))"
   ]
  },
  {
   "cell_type": "markdown",
   "metadata": {},
   "source": [
    "初步的搜索路径的算法较简单，不能确保是最短路径。"
   ]
  },
  {
   "cell_type": "code",
   "execution_count": 11,
   "metadata": {},
   "outputs": [
    {
     "name": "stdout",
     "output_type": "stream",
     "text": [
      "['a', 'b', 'e']\n"
     ]
    }
   ],
   "source": [
    "print(path(chart, 'a', 'e', []))"
   ]
  },
  {
   "cell_type": "code",
   "execution_count": null,
   "metadata": {},
   "outputs": [],
   "source": [
    ""
   ]
  }
 ],
 "metadata": {
  "kernelspec": {
   "display_name": "Python 2",
   "language": "python",
   "name": "python2"
  },
  "language_info": {
   "codemirror_mode": {
    "name": "ipython",
    "version": 2.0
   },
   "file_extension": ".py",
   "mimetype": "text/x-python",
   "name": "python",
   "nbconvert_exporter": "python",
   "pygments_lexer": "ipython2",
   "version": "2.7.6"
  }
 },
 "nbformat": 4,
 "nbformat_minor": 0
}