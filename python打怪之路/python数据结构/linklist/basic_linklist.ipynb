{
 "cells": [
  {
   "cell_type": "markdown",
   "metadata": {
    "collapsed": true
   },
   "source": [
    "### 链表"
   ]
  },
  {
   "cell_type": "markdown",
   "metadata": {},
   "source": [
    "链表里的元素不是相邻的"
   ]
  },
  {
   "cell_type": "code",
   "execution_count": 14,
   "metadata": {
    "collapsed": true
   },
   "outputs": [],
   "source": [
    "class Element(object):\n",
    "    def __init__(self, data):\n",
    "        self.data = data\n",
    "        self.next = None\n",
    "\n",
    "\n",
    "class LinkedList(object):\n",
    "    def __init__(self, ele):\n",
    "        self.head = ele\n",
    "        # self.head.next = None\n",
    "        self.tail = self.head\n",
    "        if self.tail is not None:\n",
    "            self.count = 1\n",
    "        else:\n",
    "            self.count = 0\n",
    "    \n",
    "    def add(self, ele):\n",
    "        if ele is None:\n",
    "            raise ValueError('element is none')\n",
    "        self.tail.next = ele\n",
    "        self.tail = self.tail.next\n",
    "        self.count += 1\n",
    "        \n",
    "    def view(self):\n",
    "        ele = self.head\n",
    "        liststr = \"\"\n",
    "        while ele is not None:\n",
    "            if ele.next is not None:\n",
    "                liststr = liststr + str(ele.data) + '-->'\n",
    "            else:\n",
    "                liststr = liststr + str(ele.data)\n",
    "            ele = ele.next\n",
    "        return liststr\n",
    "    \n",
    "    def delete(self, ele):\n",
    "        if ele is None:\n",
    "            raise ValueError('element is none')\n",
    "        if self.head is None:\n",
    "            print('link list is null!')\n",
    "            return None\n",
    "        \n",
    "        p = self.head\n",
    "        while p.data != ele.data and p.next is not None:\n",
    "            ptemp = p\n",
    "            p = p.next\n",
    "        #  找到节点\n",
    "        if p.data == ele.data:\n",
    "            if p == self.head:\n",
    "                self.head = self.head.next\n",
    "            else:\n",
    "                ptemp.next = p.next\n",
    "                p = None\n",
    "            print('delete %s element' % ele.data)\n",
    "            self.count -= 1\n",
    "    \n",
    "    def insert(self, bfele, ele):\n",
    "        if bfele is None or ele is None:\n",
    "            raise ValueError('input element is none')\n",
    "        if self.head is None:\n",
    "            print('link list is null!')\n",
    "            return None\n",
    "        p = self.head\n",
    "        while p.data != bfele.data and p.next is not None:\n",
    "            p = p.next\n",
    "        #  找到节点\n",
    "        if p.data == bfele.data:\n",
    "            ele.next = p.next\n",
    "            p.next = ele\n",
    "            print('insert %s after %s' % (ele.data, bfele.data))\n",
    "            self.count += 1"
   ]
  },
  {
   "cell_type": "code",
   "execution_count": 15,
   "metadata": {},
   "outputs": [
    {
     "name": "stdout",
     "output_type": "stream",
     "text": [
      "head\n1\n"
     ]
    }
   ],
   "source": [
    "ll = LinkedList(Element('head'))\n",
    "print(ll.view())\n",
    "print(ll.count)"
   ]
  },
  {
   "cell_type": "code",
   "execution_count": 16,
   "metadata": {},
   "outputs": [
    {
     "name": "stdout",
     "output_type": "stream",
     "text": [
      "head-->second\n"
     ]
    }
   ],
   "source": [
    "ll.add(Element('second'))\n",
    "print(ll.view())"
   ]
  },
  {
   "cell_type": "code",
   "execution_count": 17,
   "metadata": {},
   "outputs": [
    {
     "name": "stdout",
     "output_type": "stream",
     "text": [
      "head-->second-->third\n"
     ]
    }
   ],
   "source": [
    "ll.add(Element('third'))\n",
    "print(ll.view())"
   ]
  },
  {
   "cell_type": "code",
   "execution_count": 18,
   "metadata": {
    "collapsed": true
   },
   "outputs": [
    {
     "name": "stdout",
     "output_type": "stream",
     "text": [
      "delete second element\nhead-->third\n"
     ]
    }
   ],
   "source": [
    "ll.delete(Element('second'))\n",
    "print(ll.view())"
   ]
  },
  {
   "cell_type": "code",
   "execution_count": 19,
   "metadata": {},
   "outputs": [
    {
     "ename": "ValueError",
     "evalue": "element is none",
     "traceback": [
      "\u001b[1;31m---------------------------------------------------------------------------\u001b[0m",
      "\u001b[1;31mValueError\u001b[0m                                Traceback (most recent call last)",
      "\u001b[1;32m<ipython-input-19-c6be4d57e15f>\u001b[0m in \u001b[0;36m<module>\u001b[1;34m()\u001b[0m\n\u001b[1;32m----> 1\u001b[1;33m \u001b[0mll\u001b[0m\u001b[1;33m.\u001b[0m\u001b[0madd\u001b[0m\u001b[1;33m(\u001b[0m\u001b[1;32mNone\u001b[0m\u001b[1;33m)\u001b[0m\u001b[1;33m\u001b[0m\u001b[0m\n\u001b[0m",
      "\u001b[1;32m<ipython-input-14-afedefa6d446>\u001b[0m in \u001b[0;36madd\u001b[1;34m(self, ele)\u001b[0m\n\u001b[0;32m     17\u001b[0m     \u001b[1;32mdef\u001b[0m \u001b[0madd\u001b[0m\u001b[1;33m(\u001b[0m\u001b[0mself\u001b[0m\u001b[1;33m,\u001b[0m \u001b[0mele\u001b[0m\u001b[1;33m)\u001b[0m\u001b[1;33m:\u001b[0m\u001b[1;33m\u001b[0m\u001b[0m\n\u001b[0;32m     18\u001b[0m         \u001b[1;32mif\u001b[0m \u001b[0mele\u001b[0m \u001b[1;32mis\u001b[0m \u001b[1;32mNone\u001b[0m\u001b[1;33m:\u001b[0m\u001b[1;33m\u001b[0m\u001b[0m\n\u001b[1;32m---> 19\u001b[1;33m             \u001b[1;32mraise\u001b[0m \u001b[0mValueError\u001b[0m\u001b[1;33m(\u001b[0m\u001b[1;34m'element is none'\u001b[0m\u001b[1;33m)\u001b[0m\u001b[1;33m\u001b[0m\u001b[0m\n\u001b[0m\u001b[0;32m     20\u001b[0m         \u001b[0mself\u001b[0m\u001b[1;33m.\u001b[0m\u001b[0mtail\u001b[0m\u001b[1;33m.\u001b[0m\u001b[0mnext\u001b[0m \u001b[1;33m=\u001b[0m \u001b[0mele\u001b[0m\u001b[1;33m\u001b[0m\u001b[0m\n\u001b[0;32m     21\u001b[0m         \u001b[0mself\u001b[0m\u001b[1;33m.\u001b[0m\u001b[0mtail\u001b[0m \u001b[1;33m=\u001b[0m \u001b[0mself\u001b[0m\u001b[1;33m.\u001b[0m\u001b[0mtail\u001b[0m\u001b[1;33m.\u001b[0m\u001b[0mnext\u001b[0m\u001b[1;33m\u001b[0m\u001b[0m\n",
      "\u001b[1;31mValueError\u001b[0m: element is none"
     ],
     "output_type": "error"
    }
   ],
   "source": [
    "ll.add(None)"
   ]
  },
  {
   "cell_type": "code",
   "execution_count": 20,
   "metadata": {},
   "outputs": [
    {
     "data": {
      "text/plain": [
       "2"
      ]
     },
     "execution_count": 20,
     "metadata": {},
     "output_type": "execute_result"
    }
   ],
   "source": [
    "ll.count"
   ]
  },
  {
   "cell_type": "code",
   "execution_count": 21,
   "metadata": {},
   "outputs": [
    {
     "name": "stdout",
     "output_type": "stream",
     "text": [
      "head-->third-->fourth\n"
     ]
    }
   ],
   "source": [
    "ll.add(Element('fourth'))\n",
    "print(ll.view())"
   ]
  },
  {
   "cell_type": "code",
   "execution_count": 22,
   "metadata": {},
   "outputs": [
    {
     "data": {
      "text/plain": [
       "3"
      ]
     },
     "execution_count": 22,
     "metadata": {},
     "output_type": "execute_result"
    }
   ],
   "source": [
    "ll.count"
   ]
  },
  {
   "cell_type": "code",
   "execution_count": 23,
   "metadata": {},
   "outputs": [
    {
     "name": "stdout",
     "output_type": "stream",
     "text": [
      "delete third element\nhead-->fourth\n"
     ]
    }
   ],
   "source": [
    "ll.delete(Element('third'))\n",
    "print(ll.view())"
   ]
  },
  {
   "cell_type": "code",
   "execution_count": 24,
   "metadata": {},
   "outputs": [
    {
     "data": {
      "text/plain": [
       "2"
      ]
     },
     "execution_count": 24,
     "metadata": {},
     "output_type": "execute_result"
    }
   ],
   "source": [
    "ll.count"
   ]
  },
  {
   "cell_type": "code",
   "execution_count": 25,
   "metadata": {},
   "outputs": [
    {
     "name": "stdout",
     "output_type": "stream",
     "text": [
      "insert insert element after head\nhead-->insert element-->fourth\n3\n"
     ]
    }
   ],
   "source": [
    "ll.insert(Element('head'), Element('insert element'))\n",
    "print(ll.view())\n",
    "print(ll.count)"
   ]
  },
  {
   "cell_type": "markdown",
   "metadata": {},
   "source": [
    "参考磁链接完成链表反序，链表排序 > http://blog.csdn.net/hackbuteer1/article/details/6591486/"
   ]
  },
  {
   "cell_type": "code",
   "execution_count": null,
   "metadata": {},
   "outputs": [],
   "source": [
    ""
   ]
  }
 ],
 "metadata": {
  "kernelspec": {
   "display_name": "Python 3",
   "language": "python",
   "name": "python3"
  },
  "language_info": {
   "codemirror_mode": {
    "name": "ipython",
    "version": 3.0
   },
   "file_extension": ".py",
   "mimetype": "text/x-python",
   "name": "python",
   "nbconvert_exporter": "python",
   "pygments_lexer": "ipython3",
   "version": "3.5.3"
  }
 },
 "nbformat": 4,
 "nbformat_minor": 0
}