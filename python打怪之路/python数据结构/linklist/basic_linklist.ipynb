{
 "cells": [
  {
   "cell_type": "markdown",
   "metadata": {
    "collapsed": true
   },
   "source": [
    "### 链表"
   ]
  },
  {
   "cell_type": "markdown",
   "metadata": {},
   "source": [
    "链表里的元素不是相邻的"
   ]
  },
  {
   "cell_type": "code",
   "execution_count": 1,
   "metadata": {
    "collapsed": true
   },
   "outputs": [],
   "source": [
    "class element(object):\n",
    "    def __init__(self, data):\n",
    "        self.data = data\n",
    "        self.next = None\n",
    "\n",
    "class LinkedList(object):\n",
    "    def __init__(self, ele):\n",
    "        self.head = ele\n",
    "        # self.head.next = None\n",
    "        self.tail = self.head\n",
    "    \n",
    "    def add(self, ele):\n",
    "        self.tail.next  = ele\n",
    "        self.tail = self.tail.next\n",
    "        \n",
    "    def view(self):\n",
    "        ele = self.head\n",
    "        liststr = \"\"\n",
    "        while ele is not None:\n",
    "            if ele.next is not None:\n",
    "                liststr = liststr + str(ele.data) + '-->'\n",
    "            else:\n",
    "                liststr = liststr + str(ele.data)\n",
    "            ele = ele.next\n",
    "        return  liststr\n",
    "    \n",
    "    def delete(self, ele):\n",
    "        pass\n",
    "    \n",
    "    def insert(self, element):\n",
    "        pass"
   ]
  },
  {
   "cell_type": "code",
   "execution_count": 2,
   "metadata": {},
   "outputs": [
    {
     "name": "stdout",
     "output_type": "stream",
     "text": [
      "head\n"
     ]
    }
   ],
   "source": [
    "ll = LinkedList(element('head'))\n",
    "print(ll.view())"
   ]
  },
  {
   "cell_type": "code",
   "execution_count": 3,
   "metadata": {},
   "outputs": [
    {
     "name": "stdout",
     "output_type": "stream",
     "text": [
      "head-->second\n"
     ]
    }
   ],
   "source": [
    "ll.add(element('second'))\n",
    "print(ll.view())"
   ]
  },
  {
   "cell_type": "code",
   "execution_count": 4,
   "metadata": {},
   "outputs": [
    {
     "name": "stdout",
     "output_type": "stream",
     "text": [
      "head-->second-->third\n"
     ]
    }
   ],
   "source": [
    "ll.add(element('third'))\n",
    "print(ll.view())"
   ]
  },
  {
   "cell_type": "code",
   "execution_count": null,
   "metadata": {
    "collapsed": true
   },
   "outputs": [],
   "source": [
    ""
   ]
  }
 ],
 "metadata": {
  "kernelspec": {
   "display_name": "Python 3",
   "language": "python",
   "name": "python3"
  },
  "language_info": {
   "codemirror_mode": {
    "name": "ipython",
    "version": 3.0
   },
   "file_extension": ".py",
   "mimetype": "text/x-python",
   "name": "python",
   "nbconvert_exporter": "python",
   "pygments_lexer": "ipython3",
   "version": "3.5.3"
  }
 },
 "nbformat": 4,
 "nbformat_minor": 0
}