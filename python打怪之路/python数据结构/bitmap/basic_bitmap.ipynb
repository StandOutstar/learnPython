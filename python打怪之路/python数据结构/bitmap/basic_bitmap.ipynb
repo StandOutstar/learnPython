{
 "cells": [
  {
   "cell_type": "markdown",
   "metadata": {
    "collapsed": true
   },
   "source": [
    "### BitMap算法思想：\n",
    "    通过映射实现存储空间的压缩,实现大量数据的按序存储。是一种通过时间（增加计算时间）换空间的做法。"
   ]
  },
  {
   "cell_type": "markdown",
   "metadata": {},
   "source": [
    "主要涉及的操作:\n",
    "- 创建存储空间\n",
    "- 数据映射\n",
    "- 数据反映射 \n",
    "- 存储进数据后可以按照从大端或小端获取,实现排序"
   ]
  },
  {
   "cell_type": "code",
   "execution_count": 1,
   "metadata": {},
   "outputs": [],
   "source": [
    "class BitMap:\n",
    "    def __init__(self, max):\n",
    "        # 创建存储空间\n",
    "        self.array = [0 for i in range(int((max + 30) / 31))]\n",
    "    \n",
    "    # 数据映射\n",
    "    def map_index(self, num):\n",
    "        array_index = int(num / 31)\n",
    "        bit_index = num % 31\n",
    "        # 将相应位置置一\n",
    "        self.array[array_index] = self.array[array_index] | (1 << bit_index)\n",
    "        pass\n",
    "    \n",
    "    # 检索是否已存储\n",
    "    def if_has(self, num):\n",
    "        array_index = int(num / 31)\n",
    "        bit_index = num % 31\n",
    "        if self.array[array_index] & (1 << bit_index):\n",
    "            return True\n",
    "        else:\n",
    "            return False\n",
    "        \n",
    "    # 从大端输出\n",
    "    def big_output(self):\n",
    "        res = []\n",
    "        i = len(self.array) - 1 \n",
    "        while i >= 0:\n",
    "            j = 30\n",
    "            while j >= 0:\n",
    "                if self.array[i] & (1 << j):\n",
    "                    # print(i * 31 + j, end=',')\n",
    "                    res.append(i * 31 + j)\n",
    "                j -= 1\n",
    "            i -= 1\n",
    "        return res\n",
    "    \n",
    "    # 从小端输出\n",
    "    def small_output(self):\n",
    "        res = []\n",
    "        for i in range(len(self.array)):\n",
    "            for j in range(32):\n",
    "                if self.array[i] & (1 << j):\n",
    "                    # print(i * 31 + j, end=',')\n",
    "                    res.append(i * 31 + j)\n",
    "        return res"
   ]
  },
  {
   "cell_type": "code",
   "execution_count": 26,
   "metadata": {},
   "outputs": [],
   "source": [
    "b = BitMap(61)\n",
    "b.map_index(4)\n",
    "b.map_index(15)\n",
    "b.map_index(32)\n",
    "b.map_index(61)"
   ]
  },
  {
   "cell_type": "code",
   "execution_count": 27,
   "metadata": {},
   "outputs": [
    {
     "data": {
      "text/plain": [
       "[4, 15, 32, 61]"
      ]
     },
     "execution_count": 27,
     "metadata": {},
     "output_type": "execute_result"
    }
   ],
   "source": [
    "b.small_output()"
   ]
  },
  {
   "cell_type": "code",
   "execution_count": 28,
   "metadata": {},
   "outputs": [
    {
     "data": {
      "text/plain": [
       "[61, 32, 15, 4]"
      ]
     },
     "execution_count": 28,
     "metadata": {},
     "output_type": "execute_result"
    }
   ],
   "source": [
    "b.big_output()"
   ]
  },
  {
   "cell_type": "code",
   "execution_count": 29,
   "metadata": {},
   "outputs": [
    {
     "name": "stdout",
     "output_type": "stream",
     "text": [
      "['a', 'c', 'e', 'f', 'j', 'k', 'l', 's', 'u', 'w']\n"
     ]
    }
   ],
   "source": [
    "c = BitMap(ord('z'))\n",
    "for x in 'aceslfkjuw':\n",
    "    c.map_index(ord(x))\n",
    "print(list(map(chr, c.small_output())))"
   ]
  },
  {
   "cell_type": "code",
   "execution_count": 31,
   "metadata": {},
   "outputs": [
    {
     "name": "stdout",
     "output_type": "stream",
     "text": [
      "['w', 'u', 's', 'l', 'k', 'j', 'f', 'e', 'c', 'a']\n"
     ]
    }
   ],
   "source": [
    "print(list(map(chr, c.big_output())))"
   ]
  },
  {
   "cell_type": "code",
   "execution_count": 32,
   "metadata": {},
   "outputs": [
    {
     "name": "stdout",
     "output_type": "stream",
     "text": [
      "True\n"
     ]
    }
   ],
   "source": [
    "print(c.if_has(ord('a')))"
   ]
  },
  {
   "cell_type": "code",
   "execution_count": null,
   "metadata": {},
   "outputs": [],
   "source": [
    ""
   ]
  }
 ],
 "metadata": {
  "kernelspec": {
   "display_name": "Python 2",
   "language": "python",
   "name": "python2"
  },
  "language_info": {
   "codemirror_mode": {
    "name": "ipython",
    "version": 2.0
   },
   "file_extension": ".py",
   "mimetype": "text/x-python",
   "name": "python",
   "nbconvert_exporter": "python",
   "pygments_lexer": "ipython2",
   "version": "2.7.6"
  }
 },
 "nbformat": 4,
 "nbformat_minor": 0
}