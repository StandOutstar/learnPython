{
 "cells": [
  {
   "cell_type": "markdown",
   "metadata": {
    "collapsed": true
   },
   "source": [
    "### 类继承\n",
    "- ### 单继承"
   ]
  },
  {
   "cell_type": "code",
   "execution_count": 1,
   "metadata": {},
   "outputs": [
    {
     "name": "stdout",
     "output_type": "stream",
     "text": [
      "my name: jike\n"
     ]
    }
   ],
   "source": [
    "class Student:\n",
    "    def __init__(self, name):\n",
    "        self.name = name\n",
    "    \n",
    "    def introduce_myself(self):\n",
    "        print(self.name)\n",
    "\n",
    "\n",
    "class Jike(Student):\n",
    "    def introduce_myself(self):\n",
    "        print('my name: ' + self.name)\n",
    "\n",
    "jike = Jike('jike')\n",
    "jike.introduce_myself()"
   ]
  },
  {
   "cell_type": "code",
   "execution_count": 18,
   "metadata": {},
   "outputs": [],
   "source": [
    "class Hacker(Student):\n",
    "    def __init__(self, name, age):\n",
    "        # super(Hacker, self).__init__(name)\n",
    "        # 或\n",
    "        super().__init__(name)\n",
    "        self.age = age\n",
    "    \n",
    "    def introduce_myself(self):\n",
    "        print('my name:' + self.name + ' my age: ' + str(self.age))"
   ]
  },
  {
   "cell_type": "code",
   "execution_count": 19,
   "metadata": {},
   "outputs": [
    {
     "name": "stdout",
     "output_type": "stream",
     "text": [
      "my name:hacker my age: 18\n"
     ]
    }
   ],
   "source": [
    "hacker = Hacker('hacker', 18)\n",
    "hacker.introduce_myself()"
   ]
  },
  {
   "cell_type": "markdown",
   "metadata": {},
   "source": [
    "- ### 多继承"
   ]
  },
  {
   "cell_type": "markdown",
   "metadata": {},
   "source": [
    "方法的搜索顺序是按照广度优先原则:\n",
    "\n",
    "- 首先在本类去找，\n",
    "- 本类没有查找第一个父类，第一个父类没有，查找第二个父类，。。。，没有找到\n",
    "- 第一层父类没有查找第一个父类继承的第一个父类，没有查找第一个父类继承的第二个父类，。。。没有找到\n",
    "- 第一层父类的第一个父类继承的父类没有找到，查找第二个父类继承的父类"
   ]
  },
  {
   "cell_type": "code",
   "execution_count": 22,
   "metadata": {},
   "outputs": [
    {
     "name": "stdout",
     "output_type": "stream",
     "text": [
      "(<class '__main__.L3'>, <class '__main__.L2_1'>, <class '__main__.L2_2'>, <class '__main__.L1_1'>, <class '__main__.L1_2'>, <class '__main__.Origin'>, <class 'object'>)\nL2_1\n"
     ]
    }
   ],
   "source": [
    "class Origin:\n",
    "    def foo(self):\n",
    "        print('origin')\n",
    "\n",
    "\n",
    "class L1_1(Origin):\n",
    "    def foo(self):\n",
    "        print('L1_1')\n",
    "\n",
    "\n",
    "class L1_2(Origin):\n",
    "    def foo(self):\n",
    "        print('L1_2')\n",
    "\n",
    "\n",
    "class L2_1(L1_1, L1_2):\n",
    "    def foo(self):\n",
    "        print('L2_1')\n",
    "\n",
    "\n",
    "class L2_2(L1_1, L1_2):\n",
    "    def foo(self):\n",
    "        print('L2_2')\n",
    "\n",
    "\n",
    "class L3(L2_1, L2_2):\n",
    "    pass\n",
    "\n",
    "l = L3()\n",
    "print(L3.__mro__)\n",
    "l.foo()"
   ]
  },
  {
   "cell_type": "markdown",
   "metadata": {},
   "source": [
    "### 绑定方法:通过实例调用类方法\n",
    "### 非绑定方法：通过类调用类方法"
   ]
  },
  {
   "cell_type": "code",
   "execution_count": 25,
   "metadata": {},
   "outputs": [
    {
     "name": "stdout",
     "output_type": "stream",
     "text": [
      "normal class\nnormal class\n"
     ]
    }
   ],
   "source": [
    "class Foo:\n",
    "    def bar(self):\n",
    "        print('normal class')\n",
    "\n",
    "f = Foo()\n",
    "f.bar()\n",
    "Foo.bar(f)"
   ]
  },
  {
   "cell_type": "code",
   "execution_count": 26,
   "metadata": {},
   "outputs": [
    {
     "name": "stdout",
     "output_type": "stream",
     "text": [
      "<bound method Foo.bar of <__main__.Foo object at 0x000002537FB24400>>\n<function Foo.bar at 0x000002537FB02D90>\n"
     ]
    }
   ],
   "source": [
    "print(f.bar)\n",
    "print(Foo.bar)"
   ]
  },
  {
   "cell_type": "code",
   "execution_count": 27,
   "metadata": {},
   "outputs": [
    {
     "name": "stdout",
     "output_type": "stream",
     "text": [
      "{'__dict__': <attribute '__dict__' of 'Foo' objects>, 'bar': <function Foo.bar at 0x000002537FB02D90>, '__weakref__': <attribute '__weakref__' of 'Foo' objects>, '__doc__': None, '__module__': '__main__'}\n"
     ]
    }
   ],
   "source": [
    "print(Foo.__dict__)"
   ]
  },
  {
   "cell_type": "code",
   "execution_count": 28,
   "metadata": {},
   "outputs": [
    {
     "name": "stdout",
     "output_type": "stream",
     "text": [
      "<bound method Foo.bar of <__main__.Foo object at 0x000002537FB24400>>\n"
     ]
    }
   ],
   "source": [
    "print(Foo.__dict__['bar'].__get__(f, Foo))"
   ]
  },
  {
   "cell_type": "markdown",
   "metadata": {},
   "source": [
    "- 类方法\n",
    "\n",
    "\t@classmethod\n",
    "- 静态方法\n",
    "\n",
    "\t@staticmethod\n",
    "- 实例方法\n",
    "\t普通方法"
   ]
  },
  {
   "cell_type": "code",
   "execution_count": null,
   "metadata": {},
   "outputs": [],
   "source": [
    ""
   ]
  }
 ],
 "metadata": {
  "kernelspec": {
   "display_name": "Python 2",
   "language": "python",
   "name": "python2"
  },
  "language_info": {
   "codemirror_mode": {
    "name": "ipython",
    "version": 2.0
   },
   "file_extension": ".py",
   "mimetype": "text/x-python",
   "name": "python",
   "nbconvert_exporter": "python",
   "pygments_lexer": "ipython2",
   "version": "2.7.6"
  }
 },
 "nbformat": 4,
 "nbformat_minor": 0
}